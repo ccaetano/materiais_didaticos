{
 "cells": [
  {
   "cell_type": "markdown",
   "metadata": {},
   "source": [
    "# Movimento de um projétil sem resistência do ar\n",
    "\n",
    "Gessé de Castro Adam e Clóvis Caetano\n",
    "\n",
    "Última edição: 26 de junho de 2024"
   ]
  },
  {
   "cell_type": "code",
   "execution_count": 10,
   "metadata": {},
   "outputs": [],
   "source": [
    "# Carregando bibliotecas que serão usadas\n",
    "import numpy as np\n",
    "import matplotlib.pyplot as plt\n",
    "import matplotlib.ticker as ticker"
   ]
  },
  {
   "cell_type": "markdown",
   "metadata": {},
   "source": [
    "## Teoria\n",
    "\n",
    "Se a resistência do ar não for considerada, a única força que atua sobre o projétil é a força da gravidade:\n",
    "\n",
    "$$\n",
    "\\vec{F}_{\\text{res}} = -mg\\hat{y}.\n",
    "$$\n",
    "\n",
    "Então o projétil só tem aceleração na direção vertical:\n",
    "\n",
    "$$\n",
    "\\left\\{\n",
    "\\begin{align*}\n",
    "a_x &= 0\\\\\n",
    "a_y &= -g.\n",
    "\\end{align*}\n",
    "\\right.\n",
    "$$\n",
    "\n",
    "Nesse caso, a trajetória do projétil é uma parábola:\n",
    "\n",
    "$$\n",
    "y = y_0 + A(x-x_0) + B(x-x_0)^2,\n",
    "$$\n",
    "\n",
    "onde\n",
    "\n",
    "$$\n",
    "A = \\tan\\theta_0 \\quad\\textrm{e}\\quad B = {\\displaystyle -\\frac{g}{2v_0^2\\cos^2\\theta_0}}.\n",
    "$$"
   ]
  },
  {
   "cell_type": "markdown",
   "metadata": {},
   "source": [
    "## Implementação"
   ]
  },
  {
   "cell_type": "code",
   "execution_count": 11,
   "metadata": {},
   "outputs": [],
   "source": [
    "def aceleracao(x, y, vx, vy):\n",
    "    \"\"\"\n",
    "    Função que calcula a aceleração do projétil. \n",
    "    Obs.: mesmo a aceleração sendo constante neste caso, foi mantido o mesmo\n",
    "    padrão que será usado nos próximos notebooks.\n",
    "    \"\"\"\n",
    "    ax = 0\n",
    "    ay = -g\n",
    "    return ax, ay"
   ]
  },
  {
   "cell_type": "code",
   "execution_count": 12,
   "metadata": {},
   "outputs": [],
   "source": [
    "def func_analitica(x):\n",
    "    \"\"\"\n",
    "    Funão que calcula a trajetória analítica do projétil.\n",
    "    \"\"\"\n",
    "    A = np.tan(theta0_rad)\n",
    "    B = -g/(2*v0**2*(np.cos(theta0_rad))**2)\n",
    "    return y0 + A*(x-x0) + B*(x-x0)**2"
   ]
  },
  {
   "cell_type": "code",
   "execution_count": 13,
   "metadata": {},
   "outputs": [],
   "source": [
    "# Métodos numéricos\n",
    "\n",
    "def euler(x, y, vx, vy):\n",
    "    \"\"\"\n",
    "    Atualiza a posição e a velocidade do projétil com o método de Euler\n",
    "    \"\"\"\n",
    "    ax, ay = aceleracao(x, y, vx, vy)\n",
    "    vx_novo = vx + ax*dt \n",
    "    vy_novo = vy + ay*dt\n",
    "    x_novo = x + vx*dt\n",
    "    y_novo = y + vy*dt\n",
    "    return x_novo, y_novo, vx_novo, vy_novo\n",
    "\n",
    "def euler_cromer(x, y, vx, vy):\n",
    "    \"\"\"\n",
    "    Atualiza a posição e a velocidade do projétil com o método de Euler-Cromer.\n",
    "    \"\"\"\n",
    "    ax, ay = aceleracao(x, y, vx, vy)\n",
    "    vx_novo = vx + ax*dt \n",
    "    vy_novo = vy + ay*dt\n",
    "    x_novo = x + vx_novo*dt\n",
    "    y_novo = y + vy_novo*dt\n",
    "    return x_novo, y_novo, vx_novo, vy_novo\n",
    "\n",
    "def heun(x, y, vx, vy):\n",
    "    \"\"\"\n",
    "    Atualiza a posição e a velocidade do projétil com o método de Heun.\n",
    "    \"\"\"\n",
    "    ax1, ay1 = aceleracao(x, y, vx, vy)\n",
    "    vx1 = vx + ax1*dt\n",
    "    vy1 = vy + ay1*dt\n",
    "    x1 = x + vx*dt\n",
    "    y1 = y + vy*dt\n",
    "    ax2, ay2 = aceleracao(x1, y1, vx1, vy1)\n",
    "    vx2 = vx + ax2*dt\n",
    "    vy2 = vy + ay2*dt\n",
    "    x2 = x + vx1*dt\n",
    "    y2 = y + vy1*dt\n",
    "    x_novo = (x1 + x2)/2\n",
    "    y_novo = (y1 + y2)/2\n",
    "    vx_novo = (vx1 + vx2)/2\n",
    "    vy_novo = (vy1 + vy2)/2\n",
    "    return x_novo, y_novo, vx_novo, vy_novo\n",
    "\n",
    "def runge_kutta(x, y, vx, vy):\n",
    "    \"\"\"\n",
    "    Atualiza a posição e a velocidade do projétil com o método de \n",
    "    Runge-Kutta de 4ª ordem.\n",
    "    \"\"\"\n",
    "    ax1, ay1 = aceleracao(x, y, vx, vy)  \n",
    "    k1vx = ax1*dt\n",
    "    k1vy = ay1*dt\n",
    "    k1x = vx*dt\n",
    "    k1y = vy*dt\n",
    "    ax2, ay2 = aceleracao(x+k1x/2, y+k1y/2, vx+k1vx/2, vy+k1vy/2)  \n",
    "    k2vx = ax2*dt\n",
    "    k2vy = ay2*dt\n",
    "    k2x = (vx+k1vx/2)*dt\n",
    "    k2y = (vy+k1vy/2)*dt\n",
    "    ax3, ay3 = aceleracao(x+k2x/2, y+k2y/2, vx+k2vx/2, vy+k2vy/2)  \n",
    "    k3vx = ax3*dt\n",
    "    k3vy = ay3*dt\n",
    "    k3x = (vx+k2vx/2)*dt\n",
    "    k3y = (vy+k2vy/2)*dt\n",
    "    ax4, ay4 = aceleracao(x+k3x, y+k3y, vx+k3vx, vy+k3vy)  \n",
    "    k4vx = ax4*dt\n",
    "    k4vy = ay4*dt\n",
    "    k4x = (vx+k3vx)*dt\n",
    "    k4y = (vy+k3vy)*dt\n",
    "    x_novo = x + 1/6*(k1x + 2*k2x + 2*k3x + k4x) \n",
    "    y_novo = y + 1/6*(k1y + 2*k2y + 2*k3y + k4y)\n",
    "    vx_novo = vx + 1/6*(k1vx + 2*k2vx + 2*k3vx + k4vx)\n",
    "    vy_novo = vy + 1/6*(k1vy + 2*k2vy + 2*k3vy + k4vy)\n",
    "    return x_novo, y_novo, vx_novo, vy_novo"
   ]
  },
  {
   "cell_type": "code",
   "execution_count": 14,
   "metadata": {},
   "outputs": [],
   "source": [
    "def trajetoria(metodo, x0, y0, vx0, vy0, t0, t_max, y_min):\n",
    "    \"\"\"\n",
    "    Função para calcular as coordenadas e as componentes da velocidade do projétil\n",
    "    \"\"\"\n",
    "    # Usando as condições iniciais\n",
    "    t = t0\n",
    "    x = x0\n",
    "    y = y0\n",
    "    vx = vx0\n",
    "    vy = vy0\n",
    "\n",
    "    # Criando listas para armazenar os valores calculados\n",
    "    t_salvo = np.array([t])\n",
    "    x_salvo = np.array([x])\n",
    "    y_salvo = np.array([y])\n",
    "    vx_salvo = np.array([vx])\n",
    "    vy_salvo = np.array([vy])\n",
    "\n",
    "    # Atualizando os valores das variáveis\n",
    "    while t < t_max:\n",
    "        t = t + dt\n",
    "        x, y, vx, vy = metodo(x, y, vx, vy)\n",
    "        t_salvo = np.append(t_salvo, t)\n",
    "        x_salvo = np.append(x_salvo, x)\n",
    "        y_salvo = np.append(y_salvo, y)\n",
    "        vx_salvo = np.append(vx_salvo, vx)\n",
    "        vy_salvo = np.append(vy_salvo, vy)  \n",
    "        if y < y_min:\n",
    "            break\n",
    "    \n",
    "    return t_salvo, x_salvo, y_salvo, vx_salvo, vy_salvo"
   ]
  },
  {
   "cell_type": "code",
   "execution_count": 19,
   "metadata": {
    "executionInfo": {
     "elapsed": 6,
     "status": "ok",
     "timestamp": 1687920171928,
     "user": {
      "displayName": "Clóvis Caetano",
      "userId": "06110171161134198172"
     },
     "user_tz": 180
    },
    "id": "Z_mUb-tLVnFt"
   },
   "outputs": [],
   "source": [
    "# Constantes físicas\n",
    "g = 9.81 # Aceleração da gravidade em m/s^2"
   ]
  },
  {
   "cell_type": "code",
   "execution_count": 20,
   "metadata": {
    "id": "rb-IVL7OTW0G"
   },
   "outputs": [],
   "source": [
    "# Condições iniciais\n",
    "t0 = 0\n",
    "x0 = 0\n",
    "y0 = 0\n",
    "v0 = 1640 \n",
    "theta0 = 45\n",
    "theta0_rad = np.deg2rad(theta0)\n",
    "vx0 = v0*np.cos(theta0_rad)\n",
    "vy0 = v0*np.sin(theta0_rad)\n",
    "\n",
    "# Condições de parada\n",
    "t_max = 10*60\n",
    "y_min = 0 \n",
    "\n",
    "# Incremento no tempo\n",
    "dt = 10"
   ]
  },
  {
   "cell_type": "code",
   "execution_count": 21,
   "metadata": {},
   "outputs": [
    {
     "data": {
      "image/png": "[encoded data removed]",
      "text/plain": [
       "<Figure size 864x576 with 1 Axes>"
      ]
     },
     "metadata": {
      "needs_background": "light"
     },
     "output_type": "display_data"
    }
   ],
   "source": [
    "# Desenhando a trajetória do projétil com o uso de cada \n",
    "# método numérico (símbolos) e comparando com a trajetória analítica (linhas)\n",
    "\n",
    "fig,ax = plt.subplots()\n",
    "ax.figure.set_size_inches(12, 8)\n",
    "\n",
    "metodo = euler\n",
    "t, x, y, vx, vy = trajetoria(metodo, x0, y0, vx0, vy0, t0, t_max, y_min)\n",
    "ax.plot(x, y, 'o', markersize=10, markeredgecolor='blue', markerfacecolor=\"None\", label='Euler')\n",
    "\n",
    "metodo = euler_cromer\n",
    "t, x, y, vx, vy = trajetoria(metodo, x0, y0, vx0, vy0, t0, t_max, y_min)\n",
    "ax.plot(x, y, 's', markersize=10, markeredgecolor='red', markerfacecolor=\"None\", label='Euler-Cromer')\n",
    "\n",
    "metodo = heun\n",
    "t, x, y, vx, vy = trajetoria(metodo, x0, y0, vx0, vy0, t0, t_max, y_min)\n",
    "ax.plot(x, y, 'v', markersize=10, markeredgecolor='green',  markerfacecolor=\"None\", label='Heun')\n",
    "\n",
    "metodo = runge_kutta\n",
    "t, x, y, vx, vy = trajetoria(metodo, x0, y0, vx0, vy0, t0, t_max, y_min)\n",
    "ax.plot(x, y, '^', markersize=10, markeredgecolor='magenta',  markerfacecolor=\"None\", label='Runge-Kutta')\n",
    "\n",
    "x = np.linspace(x0, max(x), 100)\n",
    "y = func_analitica(x)\n",
    "ax.plot(x, y, 'k--', linewidth=2, label='Exata')\n",
    "\n",
    "ax.xaxis.set_major_formatter(ticker.FuncFormatter(lambda x, pos: '{0:g}'.format(x/1e3)))\n",
    "ax.set_xlabel('$x$ (km)', size=28)\n",
    "ax.yaxis.set_major_formatter(ticker.FuncFormatter(lambda y, pos: '{0:g}'.format(y/1e3)))\n",
    "ax.set_ylabel('$y$ (km)', size=28)\n",
    "ax.set_ylim(bottom=0)\n",
    "ax.tick_params(labelsize=22)\n",
    "ax.legend(fontsize=16)\n",
    "ax.grid()\n",
    "\n",
    "fig.savefig(\"Resultado1.png\", dpi=300, facecolor='white', bbox_inches='tight')"
   ]
  },
  {
   "cell_type": "markdown",
   "metadata": {},
   "source": [
    "Notamos que os métodos de Euler e Euler-Cromer apresentam um erro maior que os demais. O método de Heun (Euler melhorado) apresenta resultados semelhantes ao de Runge-Kutta. Mesmo o método de Runge-Kutta sendo mais empregado em trabalhos de análise numérica, nos demais notebooks empregaremos apenas o métode de Heun, por ser de mais fácil dedução, o que pode ser interessante do ponto de vista didático."
   ]
  }
 ],
 "metadata": {
  "colab": {
   "authorship_tag": "ABX9TyP7yssDYc7FvJdpOziQhmz1",
   "provenance": []
  },
  "kernelspec": {
   "display_name": "Python 3",
   "language": "python",
   "name": "python3"
  },
  "language_info": {
   "codemirror_mode": {
    "name": "ipython",
    "version": 3
   },
   "file_extension": ".py",
   "mimetype": "text/x-python",
   "name": "python",
   "nbconvert_exporter": "python",
   "pygments_lexer": "ipython3",
   "version": "3.7.10"
  }
 },
 "nbformat": 4,
 "nbformat_minor": 4
}
